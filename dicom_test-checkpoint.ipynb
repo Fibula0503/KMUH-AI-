{
 "cells": [
  {
   "cell_type": "markdown",
   "metadata": {
    "colab": {
     "base_uri": "https://localhost:8080/"
    },
    "id": "TEWQWllH-j6s",
    "outputId": "bc9f7edf-ca93-40e7-e74d-df31c0f1ffa1"
   },
   "source": [
    "# DICOM\n",
    "## HOW TO READ DICOM INFOMATIONš：\n",
    "### STEP 1 :\n",
    "#### pip install pydicom"
   ]
  },
  {
   "cell_type": "code",
   "execution_count": 1,
   "metadata": {},
   "outputs": [
    {
     "name": "stdout",
     "output_type": "stream",
     "text": [
      "Requirement already satisfied: pydicom in d:\\anaconda3\\lib\\site-packages (2.3.1)\n"
     ]
    }
   ],
   "source": [
    "!pip install pydicom"
   ]
  },
  {
   "cell_type": "markdown",
   "metadata": {},
   "source": [
    "### STEP 2 :\n",
    "### 讀取dicom檔\n",
    "### 取得 Pydicom 附帶的 DICOM 測試影像路徑"
   ]
  },
  {
   "cell_type": "code",
   "execution_count": 1,
   "metadata": {
    "id": "VybrHb7E-10I"
   },
   "outputs": [],
   "source": [
    "from pydicom import dcmread\n",
    "from pydicom.data import get_testdata_files\n",
    "import pydicom"
   ]
  },
  {
   "cell_type": "code",
   "execution_count": 3,
   "metadata": {
    "colab": {
     "base_uri": "https://localhost:8080/"
    },
    "id": "F6DaX5yo-5qy",
    "outputId": "11be18b7-1e98-4233-8594-d8b605656640"
   },
   "outputs": [
    {
     "name": "stdout",
     "output_type": "stream",
     "text": [
      "Dataset.file_meta -------------------------------\n",
      "(0002, 0000) File Meta Information Group Length  UL: 210\n",
      "(0002, 0001) File Meta Information Version       OB: b'\\x00\\x01'\n",
      "(0002, 0002) Media Storage SOP Class UID         UI: CT Image Storage\n",
      "(0002, 0003) Media Storage SOP Instance UID      UI: 1.3.6.1.4.1.9590.100.1.2.179399156311232526728729586053333968756\n",
      "(0002, 0010) Transfer Syntax UID                 UI: Explicit VR Little Endian\n",
      "(0002, 0012) Implementation Class UID            UI: 1.3.6.1.4.1.9590.100.1.3.100.9.4\n",
      "(0002, 0013) Implementation Version Name         SH: 'MATLAB IPT 9.4'\n",
      "-------------------------------------------------\n",
      "(0008, 0005) Specific Character Set              CS: 'ISO_IR 100'\n",
      "(0008, 0008) Image Type                          CS: ['ORIGINAL', 'PRIMARY', 'AXIAL', 'HELICAL']\n",
      "(0008, 0012) Instance Creation Date              DA: '20200311'\n",
      "(0008, 0013) Instance Creation Time              TM: '114005.625'\n",
      "(0008, 0016) SOP Class UID                       UI: CT Image Storage\n",
      "(0008, 0018) SOP Instance UID                    UI: 1.3.6.1.4.1.9590.100.1.2.179399156311232526728729586053333968756\n",
      "(0008, 0020) Study Date                          DA: ''\n",
      "(0008, 0022) Acquisition Date                    DA: ''\n",
      "(0008, 0023) Content Date                        DA: ''\n",
      "(0008, 0030) Study Time                          TM: ''\n",
      "(0008, 0032) Acquisition Time                    TM: ''\n",
      "(0008, 0033) Content Time                        TM: ''\n",
      "(0008, 0050) Accession Number                    SH: ''\n",
      "(0008, 0060) Modality                            CS: 'CT'\n",
      "(0008, 0070) Manufacturer                        LO: ''\n",
      "(0008, 0080) Institution Name                    LO: ''\n",
      "(0008, 0081) Institution Address                 ST: ''\n",
      "(0008, 0090) Referring Physician's Name          PN: ''\n",
      "(0008, 1010) Station Name                        SH: ''\n",
      "(0008, 1030) Study Description                   LO: 'LUNG'\n",
      "(0008, 103e) Series Description                  LO: 'Mediastinum 1.5'\n",
      "(0008, 1070) Operators' Name                     PN: ''\n",
      "(0008, 1090) Manufacturer's Model Name           LO: ''\n",
      "(0010, 0010) Patient's Name                      PN: ''\n",
      "(0010, 0020) Patient ID                          LO: '98.12.21'\n",
      "(0010, 0030) Patient's Birth Date                DA: ''\n",
      "(0010, 0040) Patient's Sex                       CS: ''\n",
      "(0010, 1010) Patient's Age                       AS: ''\n",
      "(0010, 1020) Patient's Size                      DS: '0.0'\n",
      "(0010, 1030) Patient's Weight                    DS: '0.0'\n",
      "(0010, 4000) Patient Comments                    LT: ''\n",
      "(0018, 0015) Body Part Examined                  CS: 'CHEST'\n",
      "(0018, 0022) Scan Options                        CS: 'HELICAL'\n",
      "(0018, 0050) Slice Thickness                     DS: '1.5'\n",
      "(0018, 0060) KVP                                 DS: '120.0'\n",
      "(0018, 0090) Data Collection Diameter            DS: '500.0'\n",
      "(0018, 1020) Software Versions                   LO: ''\n",
      "(0018, 1030) Protocol Name                       LO: 'Chest Helcal'\n",
      "(0018, 1050) Spatial Resolution                  DS: '0.33'\n",
      "(0018, 1100) Reconstruction Diameter             DS: '423.0'\n",
      "(0018, 1110) Distance Source to Detector         DS: '1040.0'\n",
      "(0018, 1111) Distance Source to Patient          DS: '570.0'\n",
      "(0018, 1120) Gantry/Detector Tilt                DS: '0.0'\n",
      "(0018, 1130) Table Height                        DS: '377.3'\n",
      "(0018, 1140) Rotation Direction                  CS: 'CW'\n",
      "(0018, 1150) Exposure Time                       IS: '9528'\n",
      "(0018, 1151) X-Ray Tube Current                  IS: '96'\n",
      "(0018, 1152) Exposure                            IS: '72'\n",
      "(0018, 1160) Filter Type                         SH: 'SB'\n",
      "(0018, 1210) Convolution Kernel                  SH: 'SB'\n",
      "(0018, 5100) Patient Position                    CS: 'HFS'\n",
      "(0020, 000d) Study Instance UID                  UI: 1.2.156.14702.1.1000.16.0.20200311113603875\n",
      "(0020, 000e) Series Instance UID                 UI: 1.2.156.14702.1.1000.16.1.2020031111365295300020004\n",
      "(0020, 0010) Study ID                            SH: '93725'\n",
      "(0020, 0011) Series Number                       IS: '5'\n",
      "(0020, 0012) Acquisition Number                  IS: '2'\n",
      "(0020, 0013) Instance Number                     IS: '172'\n",
      "(0020, 0032) Image Position (Patient)            DS: [-192, -211.5, -647.700012]\n",
      "(0020, 0037) Image Orientation (Patient)         DS: [1, 0, 0, 0, 1, 0]\n",
      "(0020, 0052) Frame of Reference UID              UI: 1.2.156.14702.1.1000.16.3.20200311113603953\n",
      "(0020, 1040) Position Reference Indicator        LO: ''\n",
      "(0020, 1041) Slice Location                      DS: '647.7'\n",
      "(0028, 0002) Samples per Pixel                   US: 1\n",
      "(0028, 0004) Photometric Interpretation          CS: 'MONOCHROME2'\n",
      "(0028, 0010) Rows                                US: 512\n",
      "(0028, 0011) Columns                             US: 512\n",
      "(0028, 0030) Pixel Spacing                       DS: [0.826172, 0.826172]\n",
      "(0028, 0100) Bits Allocated                      US: 16\n",
      "(0028, 0101) Bits Stored                         US: 16\n",
      "(0028, 0102) High Bit                            US: 15\n",
      "(0028, 0103) Pixel Representation                US: 0\n",
      "(0028, 0106) Smallest Image Pixel Value          US: 0\n",
      "(0028, 0107) Largest Image Pixel Value           US: 2492\n",
      "(0028, 1050) Window Center                       DS: '40.0'\n",
      "(0028, 1051) Window Width                        DS: '400.0'\n",
      "(0028, 1052) Rescale Intercept                   DS: '-1024.0'\n",
      "(0028, 1053) Rescale Slope                       DS: '1.0'\n",
      "(7fe0, 0010) Pixel Data                          OW: Array of 524288 elements\n"
     ]
    }
   ],
   "source": [
    "ds=pydicom.dcmread('D:/image_clean/dicom_read/56364399.dcm')\n",
    "# 列出所有後設資料（metadata）\n",
    "print(ds)"
   ]
  },
  {
   "cell_type": "markdown",
   "metadata": {},
   "source": [
    "### dcmread 函數讀取出來的 ds 是一個資料集（dataset），裡面包含了 DICOM 的各種資訊以及影像資料。\n",
    "### 可以直接取出指定欄位的資料，例如取得病人姓名（Patient’s Name）欄位的資料：\n",
    "### 使用方式：\n",
    "### ds. {放入想要搜尋的欄位}"
   ]
  },
  {
   "cell_type": "code",
   "execution_count": 18,
   "metadata": {
    "colab": {
     "base_uri": "https://localhost:8080/"
    },
    "id": "W4h9u6TU_The",
    "outputId": "ab0db2d5-f961-415a-8afc-64b3f5eb7728"
   },
   "outputs": [
    {
     "name": "stdout",
     "output_type": "stream",
     "text": [
      "\n",
      "CT\n"
     ]
    }
   ],
   "source": [
    "patientName = ds.PatientName\n",
    "modality = ds.Modality\n",
    "print(patientName)\n",
    "print(modality)"
   ]
  },
  {
   "cell_type": "markdown",
   "metadata": {},
   "source": [
    "### 可以參考 DICOM Tags 對照表，直接以 Tag 的十六進位碼來取出指定欄位：\n",
    "#### DICOM Tags 對照表 ： https://www.dicomlibrary.com/dicom/dicom-tags/\n",
    "### 使用方式：\n",
    "### ds[0x10,0x10].value"
   ]
  },
  {
   "cell_type": "code",
   "execution_count": 17,
   "metadata": {},
   "outputs": [
    {
     "name": "stdout",
     "output_type": "stream",
     "text": [
      "modality_1: CT\n",
      "modality_2: CT\n"
     ]
    }
   ],
   "source": [
    "# 輸出 Modality 資料\n",
    "modality_1 = ds[0x08,0x60].value\n",
    "print('modality_1:',modality_1)\n",
    "\n",
    "# 輸出 Modality 資料\n",
    "modality_2 = ds[0x080060].value\n",
    "print('modality_2:',modality_2)"
   ]
  },
  {
   "cell_type": "markdown",
   "metadata": {
    "id": "bW26twQ70OBT"
   },
   "source": [
    "how to use:pydicom \n",
    "https://pydicom.github.io/pydicom/stable/tutorials/dataset_basics.html"
   ]
  }
 ],
 "metadata": {
  "colab": {
   "provenance": []
  },
  "kernelspec": {
   "display_name": "Python 3 (ipykernel)",
   "language": "python",
   "name": "python3"
  },
  "language_info": {
   "codemirror_mode": {
    "name": "ipython",
    "version": 3
   },
   "file_extension": ".py",
   "mimetype": "text/x-python",
   "name": "python",
   "nbconvert_exporter": "python",
   "pygments_lexer": "ipython3",
   "version": "3.9.13"
  }
 },
 "nbformat": 4,
 "nbformat_minor": 1
}
