{
 "cells": [
  {
   "cell_type": "markdown",
   "id": "z0NkH70rmSaZ",
   "metadata": {
    "id": "z0NkH70rmSaZ"
   },
   "source": [
    "#df.head()｜檢視前五筆的資料。\n",
    "#df.tail()｜檢視最後五筆的資料。\n",
    "#df.columns｜檢視數據的欄位名稱。\n",
    "#df.shape｜檢視數據欄、列的數量，會以 (欄, 列) 方式呈現。\n",
    "#df.info()｜檢視各個欄位的資料型態與該欄位的資料數量。\n",
    "#df.describe()｜檢視整體資料的標準差、平均值等基本統計資料。"
   ]
  },
  {
   "cell_type": "code",
   "execution_count": 2,
   "id": "ee499c99",
   "metadata": {
    "id": "0bf416a5",
    "outputId": "e75253cb-7905-4723-9b49-db7f1bb5d240"
   },
   "outputs": [
    {
     "name": "stdout",
     "output_type": "stream",
     "text": [
      "       show_id     type                                        title  \\\n",
      "0     81145628    Movie      Norm of the North: King Sized Adventure   \n",
      "1     80117401    Movie                   Jandino: Whatever it Takes   \n",
      "2     70234439  TV Show                           Transformers Prime   \n",
      "3     80058654  TV Show             Transformers: Robots in Disguise   \n",
      "4     80125979    Movie                                 #realityhigh   \n",
      "...        ...      ...                                          ...   \n",
      "6229  80000063  TV Show                                 Red vs. Blue   \n",
      "6230  70286564  TV Show                                        Maron   \n",
      "6231  80116008    Movie       Little Baby Bum: Nursery Rhyme Friends   \n",
      "6232  70281022  TV Show  A Young Doctor's Notebook and Other Stories   \n",
      "6233  70153404  TV Show                                      Friends   \n",
      "\n",
      "                      director  \\\n",
      "0     Richard Finn, Tim Maltby   \n",
      "1                          NaN   \n",
      "2                          NaN   \n",
      "3                          NaN   \n",
      "4             Fernando Lebrija   \n",
      "...                        ...   \n",
      "6229                       NaN   \n",
      "6230                       NaN   \n",
      "6231                       NaN   \n",
      "6232                       NaN   \n",
      "6233                       NaN   \n",
      "\n",
      "                                                   cast  \\\n",
      "0     Alan Marriott, Andrew Toth, Brian Dobson, Cole...   \n",
      "1                                      Jandino Asporaat   \n",
      "2     Peter Cullen, Sumalee Montano, Frank Welker, J...   \n",
      "3     Will Friedle, Darren Criss, Constance Zimmer, ...   \n",
      "4     Nesta Cooper, Kate Walsh, John Michael Higgins...   \n",
      "...                                                 ...   \n",
      "6229  Burnie Burns, Jason Saldaña, Gustavo Sorola, G...   \n",
      "6230  Marc Maron, Judd Hirsch, Josh Brener, Nora Zeh...   \n",
      "6231                                                bam   \n",
      "6232  Daniel Radcliffe, Jon Hamm, Adam Godley, Chris...   \n",
      "6233  Jennifer Aniston, Courteney Cox, Lisa Kudrow, ...   \n",
      "\n",
      "                                       country         date_added  \\\n",
      "0     United States, India, South Korea, China  September 9, 2019   \n",
      "1                               United Kingdom  September 9, 2016   \n",
      "2                                United States  September 8, 2018   \n",
      "3                                United States  September 8, 2018   \n",
      "4                                United States  September 8, 2017   \n",
      "...                                        ...                ...   \n",
      "6229                             United States                NaN   \n",
      "6230                             United States                NaN   \n",
      "6231                                      none                NaN   \n",
      "6232                            United Kingdom                NaN   \n",
      "6233                             United States                NaN   \n",
      "\n",
      "      release_year  rating    duration  \\\n",
      "0             2019     4.1      90 min   \n",
      "1             2016     5.2      94 min   \n",
      "2             2013     8.2    1 Season   \n",
      "3             2016     6.4    1 Season   \n",
      "4             2017     5.7      99 min   \n",
      "...            ...     ...         ...   \n",
      "6229          2015     8.6  13 Seasons   \n",
      "6230          2016     7.8   4 Seasons   \n",
      "6231          2016     6.2      60 min   \n",
      "6232          2013     8.1   2 Seasons   \n",
      "6233          2003     8.9  10 Seasons   \n",
      "\n",
      "                                              listed_in  \\\n",
      "0                    Children & Family Movies, Comedies   \n",
      "1                                       Stand-Up Comedy   \n",
      "2                                              Kids' TV   \n",
      "3                                              Kids' TV   \n",
      "4                                              Comedies   \n",
      "...                                                 ...   \n",
      "6229  TV Action & Adventure, TV Comedies, TV Sci-Fi ...   \n",
      "6230                                        TV Comedies   \n",
      "6231                                             Movies   \n",
      "6232           British TV Shows, TV Comedies, TV Dramas   \n",
      "6233                     Classic & Cult TV, TV Comedies   \n",
      "\n",
      "                                            description  \n",
      "0     Before planning an awesome wedding for his gra...  \n",
      "1     Jandino Asporaat riffs on the challenges of ra...  \n",
      "2     With the help of three human allies, the Autob...  \n",
      "3     When a prison ship crash unleashes hundreds of...  \n",
      "4     When nerdy high schooler Dani finally attracts...  \n",
      "...                                                 ...  \n",
      "6229  This parody of first-person shooter games, mil...  \n",
      "6230  Marc Maron stars as Marc Maron, who interviews...  \n",
      "6231  Nursery rhymes and original music for children...  \n",
      "6232  Set during the Russian Revolution, this comic ...  \n",
      "6233  This hit sitcom follows the merry misadventure...  \n",
      "\n",
      "[6234 rows x 12 columns]\n"
     ]
    }
   ],
   "source": [
    "import pandas as pd\n",
    " \n",
    "df = pd.read_csv('mycsvfile.csv')\n",
    "print(df)"
   ]
  },
  {
   "cell_type": "markdown",
   "id": "e836972f",
   "metadata": {},
   "source": [
    "#一.Pandas遺漏資料清理\n",
    "#dropna()：只要該筆資料有遺漏就刪除。\n",
    "#dropna(how='all')：該筆資料的所有欄位皆遺漏才刪除。"
   ]
  },
  {
   "cell_type": "code",
   "execution_count": null,
   "id": "be540115",
   "metadata": {
    "id": "45625070",
    "outputId": "dcdf33b9-7330-4298-b1f4-436de95524a6"
   },
   "outputs": [],
   "source": [
    "import pandas as pd\n",
    " \n",
    "df = pd.read_csv('mycsvfile.csv')\n",
    "df.dropna(inplace=True)  #inplace=True為取代原pandas dataframe的意思\n",
    "#df.dropna(how='all', inplace=True)\n",
    "print(df)"
   ]
  },
  {
   "cell_type": "markdown",
   "id": "24edc2bd",
   "metadata": {},
   "source": [
    "#dropna(how='all')：該筆資料的所有欄位皆遺漏才刪除。"
   ]
  },
  {
   "cell_type": "code",
   "execution_count": null,
   "id": "11c5a425",
   "metadata": {},
   "outputs": [],
   "source": [
    "import pandas as pd\n",
    " \n",
    "df = pd.read_csv('mycsvfile.csv')\n",
    "\n",
    "df.dropna(how='all', inplace=True)\n",
    "print(df)"
   ]
  },
  {
   "cell_type": "code",
   "execution_count": null,
   "id": "7de2a6c1",
   "metadata": {
    "id": "5ea5e31f",
    "outputId": "e2316957-3445-4339-b080-e1eaf7555b6b"
   },
   "outputs": [],
   "source": [
    "#為了保留資料的原始性，資料有遺漏但並不刪除，而是填入自訂的預設值來補齊：\n",
    "\n",
    "#fillna(value=預設值)：該筆資料遺漏的部分填入自訂預設值。\n",
    "\n",
    "import pandas as pd\n",
    " \n",
    "df = pd.read_csv('mycsvfile.csv')\n",
    "df.fillna(value='unknown', inplace=True)\n",
    "print(df)"
   ]
  },
  {
   "cell_type": "markdown",
   "id": "872af9d1",
   "metadata": {
    "id": "45444cf1"
   },
   "source": [
    "#二、Pandas重複資料清理\n",
    "\n",
    "#drop_duplicates()：刪除一模一樣的資料。"
   ]
  },
  {
   "cell_type": "code",
   "execution_count": null,
   "id": "92b60146",
   "metadata": {
    "id": "082ea38c"
   },
   "outputs": [],
   "source": [
    "import pandas as pd\n",
    " \n",
    "df = pd.read_csv('mycsvfile.csv')\n",
    "df.drop_duplicates(inplace=True)\n",
    "print(df)"
   ]
  },
  {
   "cell_type": "markdown",
   "id": "9406a91d",
   "metadata": {
    "id": "e120d442"
   },
   "source": [
    "drop_duplicates([column_name,...])：指定的欄位資料重複就刪除。"
   ]
  },
  {
   "cell_type": "code",
   "execution_count": null,
   "id": "c645c03a",
   "metadata": {},
   "outputs": [],
   "source": [
    "import pandas as pd\n",
    " \n",
    "df = pd.read_csv('mycsvfile.csv')\n",
    "df.drop_duplicates(['type', 'country'], inplace=True)\n",
    "print(df)"
   ]
  },
  {
   "cell_type": "markdown",
   "id": "1e8a574e",
   "metadata": {},
   "source": [
    "str()：截取欄位資料的部分字串。"
   ]
  },
  {
   "cell_type": "code",
   "execution_count": null,
   "id": "88206c01",
   "metadata": {},
   "outputs": [],
   "source": [
    "import pandas as pd\n",
    " \n",
    "df = pd.read_csv('mycsvfile.csv')\n",
    "df['summary'] = df.description.str[0:31] #以上範例截取描述(decription)欄位的前30個字，當作摘要(summary)新欄位的值。\n",
    "print(df)"
   ]
  },
  {
   "cell_type": "markdown",
   "id": "7fe21d06",
   "metadata": {},
   "source": [
    "三、Pandas拆分欄位資料\n",
    "split()：以分隔符號來拆分資料。"
   ]
  },
  {
   "cell_type": "code",
   "execution_count": null,
   "id": "3628d1f2",
   "metadata": {},
   "outputs": [],
   "source": [
    "import pandas as pd\n",
    " \n",
    "df = pd.read_csv('mycsvfile.csv')\n",
    "df['listed'] = df.listed_in.str.split(',')\n",
    "print(df)"
   ]
  },
  {
   "cell_type": "markdown",
   "id": "d474c294",
   "metadata": {},
   "source": [
    "#以上範例使用分類(listed_in)欄位為例，利用逗號來分隔資料後，存放在清單(listed)新欄位。\n",
    "#可以看到為串列(List)的資料型態，如果要把其中的資料再分別放到不同欄位，則可以搭配Pandas套件的get()方法(Method)："
   ]
  },
  {
   "cell_type": "code",
   "execution_count": null,
   "id": "b1de508c",
   "metadata": {},
   "outputs": [],
   "source": [
    "import pandas as pd\n",
    " \n",
    "df = pd.read_csv('mycsvfile.csv')\n",
    "df['listed'] = df.listed_in.str.split(',')\n",
    "df['listed1'] = df.listed.str.get(0)\n",
    "df['listed2'] = df.listed.str.get(1)\n",
    "print(df)"
   ]
  },
  {
   "cell_type": "code",
   "execution_count": null,
   "id": "7aeb2444",
   "metadata": {},
   "outputs": [],
   "source": [
    "四、Pandas資料型態處理"
   ]
  },
  {
   "cell_type": "code",
   "execution_count": null,
   "id": "e659b2d5",
   "metadata": {},
   "outputs": [],
   "source": [
    "import pandas as pd\n",
    " \n",
    "df = pd.read_csv('mycsvfile.csv')\n",
    "print(df.dtypes)"
   ]
  },
  {
   "cell_type": "markdown",
   "id": "1f0d6bcd",
   "metadata": {},
   "source": [
    "astype()：欄位資料轉型為自訂的資料型態。需注意欄位資料不得含有特殊符號，否則會產生問題。如下範例："
   ]
  },
  {
   "cell_type": "code",
   "execution_count": null,
   "id": "2f8539e3",
   "metadata": {},
   "outputs": [],
   "source": [
    "import pandas as pd\n",
    " \n",
    "df = pd.read_csv('mycsvfile.csv')\n",
    "df['title'] = df['title'].astype('string') #將「標題」欄位轉型為字串\n",
    "print(df.dtypes)"
   ]
  },
  {
   "cell_type": "markdown",
   "id": "e3a82f66",
   "metadata": {},
   "source": [
    "to_datetime()：欄位資料轉型為日期。"
   ]
  },
  {
   "cell_type": "code",
   "execution_count": null,
   "id": "dae7c93b",
   "metadata": {},
   "outputs": [],
   "source": [
    "import pandas as pd\n",
    " \n",
    "df = pd.read_csv('mycsvfile.csv')\n",
    "df['date_added'] = pd.to_datetime(df['date_added']) #將「新增日期」欄位轉型為日期\n",
    "print(df.dtypes)"
   ]
  },
  {
   "cell_type": "markdown",
   "id": "c7bd083e",
   "metadata": {},
   "source": [
    "以上範例的執行結果可以看到，新增日期欄位(date_added)從原來的物件(object)轉型為日期(DateTime)。\n",
    "並且，資料內容皆變為日期格式，如下範例："
   ]
  },
  {
   "cell_type": "code",
   "execution_count": null,
   "id": "78e1ec16",
   "metadata": {},
   "outputs": [],
   "source": [
    "import pandas as pd\n",
    " \n",
    "df = pd.read_csv('mycsvfile.csv')\n",
    "df['date_added'] = pd.to_datetime(df['date_added']) #將「新增日期」欄位轉型為日期\n",
    "print(df)"
   ]
  },
  {
   "cell_type": "markdown",
   "id": "bd988427",
   "metadata": {},
   "source": [
    "五、Pandas資料格式處理\n",
    "to_datetime(欄位名稱).dt.strftime()：將欄資料轉型為日期後，再進行格式化，如下範例："
   ]
  },
  {
   "cell_type": "code",
   "execution_count": null,
   "id": "b127a97d",
   "metadata": {},
   "outputs": [],
   "source": [
    "import pandas as pd\n",
    " \n",
    "df = pd.read_csv('mycsvfile.csv')\n",
    "df['date_added'] = pd.to_datetime(df['date_added']).dt.strftime('%Y/%m/%d')\n",
    "print(df)"
   ]
  },
  {
   "cell_type": "markdown",
   "id": "68be9141",
   "metadata": {},
   "source": [
    "而數值型態的欄位，則可以利用以下的Pandas套件方法(Method)：\n",
    "\n",
    "round(decimals=小數位數)：四捨五入到自訂的小數位數。"
   ]
  },
  {
   "cell_type": "code",
   "execution_count": null,
   "id": "4c452aef",
   "metadata": {},
   "outputs": [],
   "source": [
    "import pandas as pd\n",
    " \n",
    "df = pd.read_csv('mycsvfile.csv')\n",
    "df['rating'] = df['rating'].round(decimals=0)  #四捨五入到整數位\n",
    "print(df)"
   ]
  },
  {
   "cell_type": "markdown",
   "id": "1006c8bb",
   "metadata": {},
   "source": [
    "六、Pandas自訂函式清理資料\n",
    "除了以上內建的資料清理方法(Method)外，還可以自訂函式封裝特殊的清理邏輯，再透過以下的Pandas套件方法(Method)套用到欄位資料中：\n",
    "\n",
    "apply()：套用自訂的資料清理函式。"
   ]
  },
  {
   "cell_type": "code",
   "execution_count": null,
   "id": "2526b0eb",
   "metadata": {},
   "outputs": [],
   "source": [
    "import pandas as pd\n",
    " \n",
    " \n",
    "#西元年轉為民國年\n",
    "def convert_chinese_year(year):\n",
    "    return int(year)-1911\n",
    " \n",
    " \n",
    "df = pd.read_csv('mycsvfile.csv')\n",
    "df['release_year'] = df['release_year'].apply(convert_chinese_year)  #套用自訂函式\n",
    "print(df)"
   ]
  },
  {
   "cell_type": "markdown",
   "id": "b4aa9ba3",
   "metadata": {},
   "source": [
    "如果想要在Pandas套件一讀取資料來源時，就進行資料型態與格式的處理，則可以在read_csv()方法(Method)加上converters關鍵字參數，如下範例："
   ]
  },
  {
   "cell_type": "code",
   "execution_count": null,
   "id": "1216fa37",
   "metadata": {},
   "outputs": [],
   "source": [
    "import pandas as pd\n",
    " \n",
    " \n",
    "#西元年轉為民國年\n",
    "def convert_chinese_year(year):\n",
    "    return int(year)-1911\n",
    " \n",
    " \n",
    "df = pd.read_csv('mycsvfile.csv', converters={\n",
    "    'date_added': lambda x: pd.to_datetime(x),  #「新增日期」轉為日期型態\n",
    "    'release_year': convert_chinese_year,  #「上映年份」轉為民國年格式\n",
    "    'rating': lambda x:int(round(float(x), 0))  #「評價」欄位四捨五入且轉為整數型態\n",
    "})\n",
    " \n",
    "print(df)"
   ]
  },
  {
   "cell_type": "code",
   "execution_count": 48,
   "id": "f6046ee9",
   "metadata": {},
   "outputs": [],
   "source": [
    "import pandas as pd\n",
    "\n",
    "A = [174,-155,-931,301]\n",
    "B = [943,847,510,16]\n",
    "C = [325,914,501,884]\n",
    "D = [-956,318,319,-83]\n",
    "\n",
    "E = [767,814,43,-116]\n",
    "F = [110,-784,-726,37]\n",
    "G = [-41,964,-67,-207]\n",
    "H = [-555,787,764,-788]\n",
    "\n",
    "df1 = pd.DataFrame({\"A\": A, \"B\": B, \"C\": C, \"D\": D})\n",
    "df2 = pd.DataFrame({\"E\": E, \"B\": F, \"C\": G, \"D\": H})"
   ]
  },
  {
   "cell_type": "code",
   "execution_count": null,
   "id": "b566da5d",
   "metadata": {},
   "outputs": [],
   "source": [
    "df1"
   ]
  },
  {
   "cell_type": "code",
   "execution_count": 50,
   "id": "338b29cb",
   "metadata": {},
   "outputs": [
    {
     "data": {
      "text/html": [
       "<div>\n",
       "<style scoped>\n",
       "    .dataframe tbody tr th:only-of-type {\n",
       "        vertical-align: middle;\n",
       "    }\n",
       "\n",
       "    .dataframe tbody tr th {\n",
       "        vertical-align: top;\n",
       "    }\n",
       "\n",
       "    .dataframe thead th {\n",
       "        text-align: right;\n",
       "    }\n",
       "</style>\n",
       "<table border=\"1\" class=\"dataframe\">\n",
       "  <thead>\n",
       "    <tr style=\"text-align: right;\">\n",
       "      <th></th>\n",
       "      <th>E</th>\n",
       "      <th>B</th>\n",
       "      <th>C</th>\n",
       "      <th>D</th>\n",
       "    </tr>\n",
       "  </thead>\n",
       "  <tbody>\n",
       "    <tr>\n",
       "      <th>0</th>\n",
       "      <td>767</td>\n",
       "      <td>110</td>\n",
       "      <td>-41</td>\n",
       "      <td>-555</td>\n",
       "    </tr>\n",
       "    <tr>\n",
       "      <th>1</th>\n",
       "      <td>814</td>\n",
       "      <td>-784</td>\n",
       "      <td>964</td>\n",
       "      <td>787</td>\n",
       "    </tr>\n",
       "    <tr>\n",
       "      <th>2</th>\n",
       "      <td>43</td>\n",
       "      <td>-726</td>\n",
       "      <td>-67</td>\n",
       "      <td>764</td>\n",
       "    </tr>\n",
       "    <tr>\n",
       "      <th>3</th>\n",
       "      <td>-116</td>\n",
       "      <td>37</td>\n",
       "      <td>-207</td>\n",
       "      <td>-788</td>\n",
       "    </tr>\n",
       "  </tbody>\n",
       "</table>\n",
       "</div>"
      ],
      "text/plain": [
       "     E    B    C    D\n",
       "0  767  110  -41 -555\n",
       "1  814 -784  964  787\n",
       "2   43 -726  -67  764\n",
       "3 -116   37 -207 -788"
      ]
     },
     "execution_count": 50,
     "metadata": {},
     "output_type": "execute_result"
    }
   ],
   "source": [
    "df2"
   ]
  },
  {
   "cell_type": "code",
   "execution_count": 43,
   "id": "a2255f27",
   "metadata": {},
   "outputs": [
    {
     "data": {
      "text/html": [
       "<div>\n",
       "<style scoped>\n",
       "    .dataframe tbody tr th:only-of-type {\n",
       "        vertical-align: middle;\n",
       "    }\n",
       "\n",
       "    .dataframe tbody tr th {\n",
       "        vertical-align: top;\n",
       "    }\n",
       "\n",
       "    .dataframe thead th {\n",
       "        text-align: right;\n",
       "    }\n",
       "</style>\n",
       "<table border=\"1\" class=\"dataframe\">\n",
       "  <thead>\n",
       "    <tr style=\"text-align: right;\">\n",
       "      <th></th>\n",
       "      <th>A</th>\n",
       "      <th>B</th>\n",
       "      <th>C</th>\n",
       "      <th>D</th>\n",
       "      <th>E</th>\n",
       "    </tr>\n",
       "  </thead>\n",
       "  <tbody>\n",
       "    <tr>\n",
       "      <th>0</th>\n",
       "      <td>174.0</td>\n",
       "      <td>943</td>\n",
       "      <td>325</td>\n",
       "      <td>-956</td>\n",
       "      <td>NaN</td>\n",
       "    </tr>\n",
       "    <tr>\n",
       "      <th>1</th>\n",
       "      <td>-155.0</td>\n",
       "      <td>847</td>\n",
       "      <td>914</td>\n",
       "      <td>318</td>\n",
       "      <td>NaN</td>\n",
       "    </tr>\n",
       "    <tr>\n",
       "      <th>2</th>\n",
       "      <td>-931.0</td>\n",
       "      <td>510</td>\n",
       "      <td>501</td>\n",
       "      <td>319</td>\n",
       "      <td>NaN</td>\n",
       "    </tr>\n",
       "    <tr>\n",
       "      <th>3</th>\n",
       "      <td>301.0</td>\n",
       "      <td>16</td>\n",
       "      <td>884</td>\n",
       "      <td>-83</td>\n",
       "      <td>NaN</td>\n",
       "    </tr>\n",
       "    <tr>\n",
       "      <th>4</th>\n",
       "      <td>NaN</td>\n",
       "      <td>110</td>\n",
       "      <td>-41</td>\n",
       "      <td>-555</td>\n",
       "      <td>767.0</td>\n",
       "    </tr>\n",
       "    <tr>\n",
       "      <th>5</th>\n",
       "      <td>NaN</td>\n",
       "      <td>-784</td>\n",
       "      <td>964</td>\n",
       "      <td>787</td>\n",
       "      <td>814.0</td>\n",
       "    </tr>\n",
       "    <tr>\n",
       "      <th>6</th>\n",
       "      <td>NaN</td>\n",
       "      <td>-726</td>\n",
       "      <td>-67</td>\n",
       "      <td>764</td>\n",
       "      <td>43.0</td>\n",
       "    </tr>\n",
       "    <tr>\n",
       "      <th>7</th>\n",
       "      <td>NaN</td>\n",
       "      <td>37</td>\n",
       "      <td>-207</td>\n",
       "      <td>-788</td>\n",
       "      <td>-116.0</td>\n",
       "    </tr>\n",
       "  </tbody>\n",
       "</table>\n",
       "</div>"
      ],
      "text/plain": [
       "       A    B    C    D      E\n",
       "0  174.0  943  325 -956    NaN\n",
       "1 -155.0  847  914  318    NaN\n",
       "2 -931.0  510  501  319    NaN\n",
       "3  301.0   16  884  -83    NaN\n",
       "4    NaN  110  -41 -555  767.0\n",
       "5    NaN -784  964  787  814.0\n",
       "6    NaN -726  -67  764   43.0\n",
       "7    NaN   37 -207 -788 -116.0"
      ]
     },
     "execution_count": 43,
     "metadata": {},
     "output_type": "execute_result"
    }
   ],
   "source": [
    "pd.concat([df1,df2], ignore_index=True) #df1資料串接"
   ]
  },
  {
   "cell_type": "code",
   "execution_count": 44,
   "id": "50077cb1",
   "metadata": {},
   "outputs": [
    {
     "data": {
      "text/html": [
       "<div>\n",
       "<style scoped>\n",
       "    .dataframe tbody tr th:only-of-type {\n",
       "        vertical-align: middle;\n",
       "    }\n",
       "\n",
       "    .dataframe tbody tr th {\n",
       "        vertical-align: top;\n",
       "    }\n",
       "\n",
       "    .dataframe thead th {\n",
       "        text-align: right;\n",
       "    }\n",
       "</style>\n",
       "<table border=\"1\" class=\"dataframe\">\n",
       "  <thead>\n",
       "    <tr style=\"text-align: right;\">\n",
       "      <th></th>\n",
       "      <th>B</th>\n",
       "      <th>C</th>\n",
       "      <th>D</th>\n",
       "    </tr>\n",
       "  </thead>\n",
       "  <tbody>\n",
       "    <tr>\n",
       "      <th>0</th>\n",
       "      <td>943</td>\n",
       "      <td>325</td>\n",
       "      <td>-956</td>\n",
       "    </tr>\n",
       "    <tr>\n",
       "      <th>1</th>\n",
       "      <td>847</td>\n",
       "      <td>914</td>\n",
       "      <td>318</td>\n",
       "    </tr>\n",
       "    <tr>\n",
       "      <th>2</th>\n",
       "      <td>510</td>\n",
       "      <td>501</td>\n",
       "      <td>319</td>\n",
       "    </tr>\n",
       "    <tr>\n",
       "      <th>3</th>\n",
       "      <td>16</td>\n",
       "      <td>884</td>\n",
       "      <td>-83</td>\n",
       "    </tr>\n",
       "    <tr>\n",
       "      <th>4</th>\n",
       "      <td>110</td>\n",
       "      <td>-41</td>\n",
       "      <td>-555</td>\n",
       "    </tr>\n",
       "    <tr>\n",
       "      <th>5</th>\n",
       "      <td>-784</td>\n",
       "      <td>964</td>\n",
       "      <td>787</td>\n",
       "    </tr>\n",
       "    <tr>\n",
       "      <th>6</th>\n",
       "      <td>-726</td>\n",
       "      <td>-67</td>\n",
       "      <td>764</td>\n",
       "    </tr>\n",
       "    <tr>\n",
       "      <th>7</th>\n",
       "      <td>37</td>\n",
       "      <td>-207</td>\n",
       "      <td>-788</td>\n",
       "    </tr>\n",
       "  </tbody>\n",
       "</table>\n",
       "</div>"
      ],
      "text/plain": [
       "     B    C    D\n",
       "0  943  325 -956\n",
       "1  847  914  318\n",
       "2  510  501  319\n",
       "3   16  884  -83\n",
       "4  110  -41 -555\n",
       "5 -784  964  787\n",
       "6 -726  -67  764\n",
       "7   37 -207 -788"
      ]
     },
     "execution_count": 44,
     "metadata": {},
     "output_type": "execute_result"
    }
   ],
   "source": [
    "pd.concat([df1,df2], ignore_index=True, join='inner') #df1重複值"
   ]
  },
  {
   "cell_type": "code",
   "execution_count": 54,
   "id": "560e2e67",
   "metadata": {},
   "outputs": [
    {
     "data": {
      "text/html": [
       "<div>\n",
       "<style scoped>\n",
       "    .dataframe tbody tr th:only-of-type {\n",
       "        vertical-align: middle;\n",
       "    }\n",
       "\n",
       "    .dataframe tbody tr th {\n",
       "        vertical-align: top;\n",
       "    }\n",
       "\n",
       "    .dataframe thead th {\n",
       "        text-align: right;\n",
       "    }\n",
       "</style>\n",
       "<table border=\"1\" class=\"dataframe\">\n",
       "  <thead>\n",
       "    <tr style=\"text-align: right;\">\n",
       "      <th></th>\n",
       "      <th>A</th>\n",
       "      <th>B</th>\n",
       "      <th>C</th>\n",
       "      <th>D</th>\n",
       "      <th>E</th>\n",
       "    </tr>\n",
       "  </thead>\n",
       "  <tbody>\n",
       "    <tr>\n",
       "      <th>0</th>\n",
       "      <td>174.0</td>\n",
       "      <td>943</td>\n",
       "      <td>325</td>\n",
       "      <td>-956</td>\n",
       "      <td>NaN</td>\n",
       "    </tr>\n",
       "    <tr>\n",
       "      <th>1</th>\n",
       "      <td>-155.0</td>\n",
       "      <td>847</td>\n",
       "      <td>914</td>\n",
       "      <td>318</td>\n",
       "      <td>NaN</td>\n",
       "    </tr>\n",
       "    <tr>\n",
       "      <th>2</th>\n",
       "      <td>-931.0</td>\n",
       "      <td>510</td>\n",
       "      <td>501</td>\n",
       "      <td>319</td>\n",
       "      <td>NaN</td>\n",
       "    </tr>\n",
       "    <tr>\n",
       "      <th>3</th>\n",
       "      <td>301.0</td>\n",
       "      <td>16</td>\n",
       "      <td>884</td>\n",
       "      <td>-83</td>\n",
       "      <td>NaN</td>\n",
       "    </tr>\n",
       "    <tr>\n",
       "      <th>4</th>\n",
       "      <td>NaN</td>\n",
       "      <td>110</td>\n",
       "      <td>-41</td>\n",
       "      <td>-555</td>\n",
       "      <td>767.0</td>\n",
       "    </tr>\n",
       "    <tr>\n",
       "      <th>5</th>\n",
       "      <td>NaN</td>\n",
       "      <td>-784</td>\n",
       "      <td>964</td>\n",
       "      <td>787</td>\n",
       "      <td>814.0</td>\n",
       "    </tr>\n",
       "    <tr>\n",
       "      <th>6</th>\n",
       "      <td>NaN</td>\n",
       "      <td>-726</td>\n",
       "      <td>-67</td>\n",
       "      <td>764</td>\n",
       "      <td>43.0</td>\n",
       "    </tr>\n",
       "    <tr>\n",
       "      <th>7</th>\n",
       "      <td>NaN</td>\n",
       "      <td>37</td>\n",
       "      <td>-207</td>\n",
       "      <td>-788</td>\n",
       "      <td>-116.0</td>\n",
       "    </tr>\n",
       "  </tbody>\n",
       "</table>\n",
       "</div>"
      ],
      "text/plain": [
       "       A    B    C    D      E\n",
       "0  174.0  943  325 -956    NaN\n",
       "1 -155.0  847  914  318    NaN\n",
       "2 -931.0  510  501  319    NaN\n",
       "3  301.0   16  884  -83    NaN\n",
       "4    NaN  110  -41 -555  767.0\n",
       "5    NaN -784  964  787  814.0\n",
       "6    NaN -726  -67  764   43.0\n",
       "7    NaN   37 -207 -788 -116.0"
      ]
     },
     "execution_count": 54,
     "metadata": {},
     "output_type": "execute_result"
    }
   ],
   "source": [
    "pd.merge(df1,df2, how='outer') "
   ]
  },
  {
   "cell_type": "code",
   "execution_count": null,
   "id": "a86247d5",
   "metadata": {},
   "outputs": [],
   "source": []
  },
  {
   "cell_type": "code",
   "execution_count": null,
   "id": "42fdacaf",
   "metadata": {},
   "outputs": [],
   "source": []
  }
 ],
 "metadata": {
  "colab": {
   "provenance": []
  },
  "kernelspec": {
   "display_name": "Python 3 (ipykernel)",
   "language": "python",
   "name": "python3"
  },
  "language_info": {
   "codemirror_mode": {
    "name": "ipython",
    "version": 3
   },
   "file_extension": ".py",
   "mimetype": "text/x-python",
   "name": "python",
   "nbconvert_exporter": "python",
   "pygments_lexer": "ipython3",
   "version": "3.8.10"
  }
 },
 "nbformat": 4,
 "nbformat_minor": 5
}
